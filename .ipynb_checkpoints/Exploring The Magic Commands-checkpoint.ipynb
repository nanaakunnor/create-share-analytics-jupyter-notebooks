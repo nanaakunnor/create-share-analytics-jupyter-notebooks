{
 "cells": [
  {
   "cell_type": "markdown",
   "id": "de895a99",
   "metadata": {},
   "source": [
    "## What are jupyter notebook magic commands \n",
    "\n",
    "Jupyter Notebook has a set of predefinded magic function like `cd`, `pwd`, `ls`, `run`, `load`, etc which run like command line syntax."
   ]
  },
  {
   "cell_type": "markdown",
   "id": "9927e282",
   "metadata": {},
   "source": [
    "### What is the meaning of `%` and `%%` in jupyter notebook? \n",
    "\n",
    "* `%` This is line magic. Everything which is written in a single line is taken as a command.\n",
    "* `%%`This is a cell magic. Everything which is written in after %% command will be interpreted to be depending on the command."
   ]
  },
  {
   "cell_type": "markdown",
   "id": "9f4b72fa",
   "metadata": {},
   "source": [
    "### List of magic function "
   ]
  },
  {
   "cell_type": "code",
   "execution_count": 1,
   "id": "0c4a3b2d",
   "metadata": {},
   "outputs": [
    {
     "data": {
      "application/json": {
       "cell": {
        "!": "OSMagics",
        "HTML": "Other",
        "SVG": "Other",
        "bash": "Other",
        "capture": "ExecutionMagics",
        "cmd": "Other",
        "debug": "ExecutionMagics",
        "file": "Other",
        "html": "DisplayMagics",
        "javascript": "DisplayMagics",
        "js": "DisplayMagics",
        "latex": "DisplayMagics",
        "markdown": "DisplayMagics",
        "perl": "Other",
        "prun": "ExecutionMagics",
        "pypy": "Other",
        "python": "Other",
        "python2": "Other",
        "python3": "Other",
        "ruby": "Other",
        "script": "ScriptMagics",
        "sh": "Other",
        "svg": "DisplayMagics",
        "sx": "OSMagics",
        "system": "OSMagics",
        "time": "ExecutionMagics",
        "timeit": "ExecutionMagics",
        "writefile": "OSMagics"
       },
       "line": {
        "alias": "OSMagics",
        "alias_magic": "BasicMagics",
        "autoawait": "AsyncMagics",
        "autocall": "AutoMagics",
        "automagic": "AutoMagics",
        "autosave": "KernelMagics",
        "bookmark": "OSMagics",
        "cd": "OSMagics",
        "clear": "KernelMagics",
        "cls": "KernelMagics",
        "colors": "BasicMagics",
        "conda": "PackagingMagics",
        "config": "ConfigMagics",
        "connect_info": "KernelMagics",
        "copy": "Other",
        "ddir": "Other",
        "debug": "ExecutionMagics",
        "dhist": "OSMagics",
        "dirs": "OSMagics",
        "doctest_mode": "BasicMagics",
        "echo": "Other",
        "ed": "Other",
        "edit": "KernelMagics",
        "env": "OSMagics",
        "gui": "BasicMagics",
        "hist": "Other",
        "history": "HistoryMagics",
        "killbgscripts": "ScriptMagics",
        "ldir": "Other",
        "less": "KernelMagics",
        "load": "CodeMagics",
        "load_ext": "ExtensionMagics",
        "loadpy": "CodeMagics",
        "logoff": "LoggingMagics",
        "logon": "LoggingMagics",
        "logstart": "LoggingMagics",
        "logstate": "LoggingMagics",
        "logstop": "LoggingMagics",
        "ls": "Other",
        "lsmagic": "BasicMagics",
        "macro": "ExecutionMagics",
        "magic": "BasicMagics",
        "matplotlib": "PylabMagics",
        "mkdir": "Other",
        "more": "KernelMagics",
        "notebook": "BasicMagics",
        "page": "BasicMagics",
        "pastebin": "CodeMagics",
        "pdb": "ExecutionMagics",
        "pdef": "NamespaceMagics",
        "pdoc": "NamespaceMagics",
        "pfile": "NamespaceMagics",
        "pinfo": "NamespaceMagics",
        "pinfo2": "NamespaceMagics",
        "pip": "PackagingMagics",
        "popd": "OSMagics",
        "pprint": "BasicMagics",
        "precision": "BasicMagics",
        "prun": "ExecutionMagics",
        "psearch": "NamespaceMagics",
        "psource": "NamespaceMagics",
        "pushd": "OSMagics",
        "pwd": "OSMagics",
        "pycat": "OSMagics",
        "pylab": "PylabMagics",
        "qtconsole": "KernelMagics",
        "quickref": "BasicMagics",
        "recall": "HistoryMagics",
        "rehashx": "OSMagics",
        "reload_ext": "ExtensionMagics",
        "ren": "Other",
        "rep": "Other",
        "rerun": "HistoryMagics",
        "reset": "NamespaceMagics",
        "reset_selective": "NamespaceMagics",
        "rmdir": "Other",
        "run": "ExecutionMagics",
        "save": "CodeMagics",
        "sc": "OSMagics",
        "set_env": "OSMagics",
        "store": "StoreMagics",
        "sx": "OSMagics",
        "system": "OSMagics",
        "tb": "ExecutionMagics",
        "time": "ExecutionMagics",
        "timeit": "ExecutionMagics",
        "unalias": "OSMagics",
        "unload_ext": "ExtensionMagics",
        "who": "NamespaceMagics",
        "who_ls": "NamespaceMagics",
        "whos": "NamespaceMagics",
        "xdel": "NamespaceMagics",
        "xmode": "BasicMagics"
       }
      },
      "text/plain": [
       "Available line magics:\n",
       "%alias  %alias_magic  %autoawait  %autocall  %automagic  %autosave  %bookmark  %cd  %clear  %cls  %colors  %conda  %config  %connect_info  %copy  %ddir  %debug  %dhist  %dirs  %doctest_mode  %echo  %ed  %edit  %env  %gui  %hist  %history  %killbgscripts  %ldir  %less  %load  %load_ext  %loadpy  %logoff  %logon  %logstart  %logstate  %logstop  %ls  %lsmagic  %macro  %magic  %matplotlib  %mkdir  %more  %notebook  %page  %pastebin  %pdb  %pdef  %pdoc  %pfile  %pinfo  %pinfo2  %pip  %popd  %pprint  %precision  %prun  %psearch  %psource  %pushd  %pwd  %pycat  %pylab  %qtconsole  %quickref  %recall  %rehashx  %reload_ext  %ren  %rep  %rerun  %reset  %reset_selective  %rmdir  %run  %save  %sc  %set_env  %store  %sx  %system  %tb  %time  %timeit  %unalias  %unload_ext  %who  %who_ls  %whos  %xdel  %xmode\n",
       "\n",
       "Available cell magics:\n",
       "%%!  %%HTML  %%SVG  %%bash  %%capture  %%cmd  %%debug  %%file  %%html  %%javascript  %%js  %%latex  %%markdown  %%perl  %%prun  %%pypy  %%python  %%python2  %%python3  %%ruby  %%script  %%sh  %%svg  %%sx  %%system  %%time  %%timeit  %%writefile\n",
       "\n",
       "Automagic is ON, % prefix IS NOT needed for line magics."
      ]
     },
     "execution_count": 1,
     "metadata": {},
     "output_type": "execute_result"
    }
   ],
   "source": [
    "%lsmagic"
   ]
  },
  {
   "cell_type": "markdown",
   "id": "19864381",
   "metadata": {},
   "source": [
    "### 1. Line Magic Function \n",
    "\n",
    "### Magic function of list of alias"
   ]
  },
  {
   "cell_type": "code",
   "execution_count": 3,
   "id": "87230182",
   "metadata": {},
   "outputs": [
    {
     "name": "stdout",
     "output_type": "stream",
     "text": [
      "Total number of aliases: 8\n"
     ]
    },
    {
     "data": {
      "text/plain": [
       "[('copy', 'copy'),\n",
       " ('ddir', 'dir /ad /on'),\n",
       " ('echo', 'echo'),\n",
       " ('ldir', 'dir /ad /on'),\n",
       " ('ls', 'dir /on'),\n",
       " ('mkdir', 'mkdir'),\n",
       " ('ren', 'ren'),\n",
       " ('rmdir', 'rmdir')]"
      ]
     },
     "execution_count": 3,
     "metadata": {},
     "output_type": "execute_result"
    }
   ],
   "source": [
    "%alias"
   ]
  },
  {
   "cell_type": "markdown",
   "id": "c9591298",
   "metadata": {},
   "source": [
    "### Magic funtion to check present working directory"
   ]
  },
  {
   "cell_type": "code",
   "execution_count": 4,
   "id": "991c8fa4",
   "metadata": {},
   "outputs": [
    {
     "data": {
      "text/plain": [
       "'C:\\\\Users\\\\Kwadwo Amedi\\\\Documents\\\\Files\\\\Python Data Analysis\\\\Python Project\\\\create-share-analytics-jupyter-notebooks'"
      ]
     },
     "execution_count": 4,
     "metadata": {},
     "output_type": "execute_result"
    }
   ],
   "source": [
    "%pwd"
   ]
  },
  {
   "cell_type": "markdown",
   "id": "25df2efd",
   "metadata": {},
   "source": [
    "### Magic funtion to list of file and folder"
   ]
  },
  {
   "cell_type": "code",
   "execution_count": 5,
   "id": "0ac63180",
   "metadata": {},
   "outputs": [
    {
     "name": "stdout",
     "output_type": "stream",
     "text": [
      " Volume in drive C is OS\n",
      " Volume Serial Number is 00E2-2D82\n",
      "\n",
      " Directory of C:\\Users\\Kwadwo Amedi\\Documents\\Files\\Python Data Analysis\\Python Project\\create-share-analytics-jupyter-notebooks\n",
      "\n",
      "07/01/2022  10:48 am    <DIR>          .\n",
      "07/01/2022  10:23 am    <DIR>          ..\n",
      "07/01/2022  10:38 am    <DIR>          .ipynb_checkpoints\n",
      "07/01/2022  10:24 am    <DIR>          datasets\n",
      "07/01/2022  10:48 am             7,970 Untitled.ipynb\n",
      "               1 File(s)          7,970 bytes\n",
      "               4 Dir(s)  404,292,603,904 bytes free\n"
     ]
    }
   ],
   "source": [
    "%ls"
   ]
  },
  {
   "cell_type": "markdown",
   "id": "3e392e66",
   "metadata": {},
   "source": [
    "### Magic function for list of file"
   ]
  },
  {
   "cell_type": "code",
   "execution_count": 6,
   "id": "d4a38bd2",
   "metadata": {},
   "outputs": [
    {
     "name": "stdout",
     "output_type": "stream",
     "text": [
      " Volume in drive C is OS\n",
      " Volume Serial Number is 00E2-2D82\n",
      "\n",
      " Directory of C:\\Users\\Kwadwo Amedi\\Documents\\Files\\Python Data Analysis\\Python Project\\create-share-analytics-jupyter-notebooks\\datasets\n",
      "\n",
      "07/01/2022  10:24 am    <DIR>          .\n",
      "07/01/2022  10:50 am    <DIR>          ..\n",
      "07/01/2022  10:23 am            28,945 HousingData.csv\n",
      "07/01/2022  10:23 am           198,091 laptops.csv\n",
      "07/01/2022  10:24 am    <DIR>          Nature\n",
      "               2 File(s)        227,036 bytes\n",
      "               3 Dir(s)  404,291,940,352 bytes free\n"
     ]
    }
   ],
   "source": [
    "%ls datasets"
   ]
  },
  {
   "cell_type": "markdown",
   "id": "0cd06187",
   "metadata": {},
   "source": [
    "### Magic function to make a new directory"
   ]
  },
  {
   "cell_type": "code",
   "execution_count": 7,
   "id": "45de7f0c",
   "metadata": {},
   "outputs": [
    {
     "name": "stdout",
     "output_type": "stream",
     "text": [
      " Volume in drive C is OS\n",
      " Volume Serial Number is 00E2-2D82\n",
      "\n",
      " Directory of C:\\Users\\Kwadwo Amedi\\Documents\\Files\\Python Data Analysis\\Python Project\\create-share-analytics-jupyter-notebooks\n",
      "\n",
      "07/01/2022  10:52 am    <DIR>          .\n",
      "07/01/2022  10:23 am    <DIR>          ..\n",
      "07/01/2022  10:38 am    <DIR>          .ipynb_checkpoints\n",
      "07/01/2022  10:24 am    <DIR>          datasets\n",
      "07/01/2022  10:52 am    <DIR>          some_directory\n",
      "07/01/2022  10:50 am             9,633 Untitled.ipynb\n",
      "               1 File(s)          9,633 bytes\n",
      "               5 Dir(s)  404,291,473,408 bytes free\n"
     ]
    }
   ],
   "source": [
    "%mkdir some_directory\n",
    "\n",
    "%ls"
   ]
  },
  {
   "cell_type": "code",
   "execution_count": 9,
   "id": "fd9ff162",
   "metadata": {},
   "outputs": [
    {
     "name": "stdout",
     "output_type": "stream",
     "text": [
      " Volume in drive C is OS\n",
      " Volume Serial Number is 00E2-2D82\n",
      "\n",
      " Directory of C:\\Users\\Kwadwo Amedi\\Documents\\Files\\Python Data Analysis\\Python Project\\create-share-analytics-jupyter-notebooks\n",
      "\n",
      "07/01/2022  10:53 am    <DIR>          .\n",
      "07/01/2022  10:23 am    <DIR>          ..\n",
      "07/01/2022  10:38 am    <DIR>          .ipynb_checkpoints\n",
      "07/01/2022  10:24 am    <DIR>          datasets\n",
      "07/01/2022  10:52 am            11,710 Untitled.ipynb\n",
      "               1 File(s)         11,710 bytes\n",
      "               4 Dir(s)  404,291,383,296 bytes free\n"
     ]
    }
   ],
   "source": [
    "%rmdir some_directory\n",
    "\n",
    "%ls"
   ]
  },
  {
   "cell_type": "markdown",
   "id": "df57e8e8",
   "metadata": {},
   "source": [
    "### Magic function to load python `module`\n",
    "\n",
    "__To run magic function, we have created factorial.py file under pyhton_file folder and the using %load magic function we are importing the file. So First write magic function `%load` and then directory and file name within single or double quotation after that you can run `.py` file__\n",
    "\n",
    "eg:- %load 'python_file/factorial'\n",
    "\n",
    "here factorial is `.py` file"
   ]
  },
  {
   "cell_type": "code",
   "execution_count": null,
   "id": "67562e16",
   "metadata": {},
   "outputs": [],
   "source": [
    "# %load \"Python_file/factorial.py\"\n",
    "#!/usr/bin/env python\n",
    "\n",
    "# In[22]:\n",
    "\n",
    "\n",
    "def factorial(num):\n",
    "    if num == 1:\n",
    "        return 1\n",
    "    else:\n",
    "        return (num * factorial(num-1))\n",
    "\n",
    "\n",
    "# In[23]:\n",
    "\n",
    "\n",
    "num = 5\n",
    "factorial(5)\n",
    "\n",
    "\n",
    "# In[ ]:\n",
    "\n",
    "\n",
    "\n",
    "\n"
   ]
  },
  {
   "cell_type": "markdown",
   "id": "39dec794",
   "metadata": {},
   "source": [
    "### You can also load python module and run it"
   ]
  },
  {
   "cell_type": "code",
   "execution_count": 13,
   "id": "f5bf860f",
   "metadata": {},
   "outputs": [],
   "source": [
    "from Python_file import factorial as fact"
   ]
  },
  {
   "cell_type": "code",
   "execution_count": 14,
   "id": "6b8120c2",
   "metadata": {},
   "outputs": [
    {
     "data": {
      "text/plain": [
       "120"
      ]
     },
     "execution_count": 14,
     "metadata": {},
     "output_type": "execute_result"
    }
   ],
   "source": [
    "fact.factorial(5)"
   ]
  },
  {
   "cell_type": "markdown",
   "id": "947fa9ab",
   "metadata": {},
   "source": [
    "### Magic function to draw a scatter plot"
   ]
  },
  {
   "cell_type": "code",
   "execution_count": 15,
   "id": "5455e229",
   "metadata": {},
   "outputs": [],
   "source": [
    "%matplotlib inline"
   ]
  },
  {
   "cell_type": "code",
   "execution_count": 16,
   "id": "a4fae977",
   "metadata": {},
   "outputs": [
    {
     "data": {
      "image/png": "[encoded data removed]",
      "text/plain": [
       "<Figure size 1080x576 with 1 Axes>"
      ]
     },
     "metadata": {
      "needs_background": "light"
     },
     "output_type": "display_data"
    }
   ],
   "source": [
    "import matplotlib.pyplot as plt\n",
    "import numpy as np\n",
    "\n",
    "N = 100\n",
    "\n",
    "X = np.random.rand(N)\n",
    "y = np.random.rand(N)\n",
    "\n",
    "color = np.random.rand(N)\n",
    "area = (30 * np.random.rand(N)) ** 2\n",
    "\n",
    "plt.figure(figsize=(15,8))\n",
    "plt.scatter(X, y , s=area, c=color, alpha=0.5)\n",
    "plt.show()"
   ]
  },
  {
   "cell_type": "markdown",
   "id": "74113ccf",
   "metadata": {},
   "source": [
    "### Magic function to rename command name"
   ]
  },
  {
   "cell_type": "code",
   "execution_count": 17,
   "id": "eccf7729",
   "metadata": {},
   "outputs": [],
   "source": [
    "%alias parenthesis echo \"Input in parenthesis: <%l>\""
   ]
  },
  {
   "cell_type": "code",
   "execution_count": 18,
   "id": "ebfae6dc",
   "metadata": {},
   "outputs": [
    {
     "name": "stdout",
     "output_type": "stream",
     "text": [
      "\"Input in parenthesis: <hello world>\" \n"
     ]
    }
   ],
   "source": [
    "parenthesis hello world"
   ]
  },
  {
   "cell_type": "code",
   "execution_count": 20,
   "id": "b01e7827",
   "metadata": {},
   "outputs": [
    {
     "name": "stdout",
     "output_type": "stream",
     "text": [
      "\"Input in parenthesis: <something new>\" \n"
     ]
    }
   ],
   "source": [
    "parenthesis something new"
   ]
  },
  {
   "cell_type": "markdown",
   "id": "fd66fe73",
   "metadata": {},
   "source": [
    "### Magic function to calculate `time` and number of `CPU` to execute the following functions\n",
    "\n",
    "* First we calculate time by importing time \n",
    "* Second we calculate time by using magic function\n",
    "\n",
    "Note:- By importing time you can caculate `CPU` time only while by using `magic function` you can calculate `CPU` and `System time` i.e `O.S` time also. where `Wall time` = `CPU` + `sys`\n",
    "\n",
    "https://cmdlinetips.com/2018/01/two-ways-to-compute-executing-time-in-python/"
   ]
  },
  {
   "cell_type": "code",
   "execution_count": 22,
   "id": "1dfef0bc",
   "metadata": {},
   "outputs": [
    {
     "name": "stdout",
     "output_type": "stream",
     "text": [
      "This is a non-magic function to calculate the time to execute this line\n"
     ]
    },
    {
     "data": {
      "text/plain": [
       "0.0009953975677490234"
      ]
     },
     "execution_count": 22,
     "metadata": {},
     "output_type": "execute_result"
    }
   ],
   "source": [
    "import time\n",
    "\n",
    "start = time.time()\n",
    "\n",
    "print(\"This is a non-magic function to calculate the time to execute this line\")\n",
    "\n",
    "ellipsed_time_fl = (time.time() - start)\n",
    "\n",
    "ellipsed_time_fl"
   ]
  },
  {
   "cell_type": "code",
   "execution_count": 23,
   "id": "1cafddad",
   "metadata": {},
   "outputs": [
    {
     "name": "stdout",
     "output_type": "stream",
     "text": [
      "0\n",
      "1\n",
      "2\n",
      "3\n",
      "4\n"
     ]
    },
    {
     "data": {
      "text/plain": [
       "0.002955913543701172"
      ]
     },
     "execution_count": 23,
     "metadata": {},
     "output_type": "execute_result"
    }
   ],
   "source": [
    "start = time.time()\n",
    "\n",
    "for i in range(5):\n",
    "    print(i)\n",
    "    \n",
    "elapsed_time_f2 = (time.time() - start)\n",
    "elapsed_time_f2"
   ]
  },
  {
   "cell_type": "code",
   "execution_count": 24,
   "id": "39d63984",
   "metadata": {},
   "outputs": [
    {
     "name": "stdout",
     "output_type": "stream",
     "text": [
      "Wall time: 0 ns\n",
      "This is a magic function to calculte the time to execute this line\n"
     ]
    }
   ],
   "source": [
    "%time\n",
    "print('This is a magic function to calculte the time to execute this line')"
   ]
  },
  {
   "cell_type": "code",
   "execution_count": 25,
   "id": "a3a4bdca",
   "metadata": {},
   "outputs": [
    {
     "name": "stdout",
     "output_type": "stream",
     "text": [
      "Wall time: 0 ns\n",
      "0\n",
      "1\n",
      "2\n",
      "3\n",
      "4\n"
     ]
    }
   ],
   "source": [
    "%time\n",
    "for i in range(5):\n",
    "    print(i)"
   ]
  },
  {
   "cell_type": "code",
   "execution_count": 26,
   "id": "3b81bbb3",
   "metadata": {},
   "outputs": [
    {
     "name": "stdout",
     "output_type": "stream",
     "text": [
      "Wall time: 0 ns\n"
     ]
    },
    {
     "data": {
      "text/plain": [
       "340282366920938463463374607431768211456"
      ]
     },
     "execution_count": 26,
     "metadata": {},
     "output_type": "execute_result"
    }
   ],
   "source": [
    "%time 2 ** 128"
   ]
  },
  {
   "cell_type": "markdown",
   "id": "21c24b0a",
   "metadata": {},
   "source": [
    "### 2. Cell magics"
   ]
  },
  {
   "cell_type": "markdown",
   "id": "ef0cc85c",
   "metadata": {},
   "source": [
    "### Magic fuction to read HTML code"
   ]
  },
  {
   "cell_type": "code",
   "execution_count": 27,
   "id": "92cad067",
   "metadata": {},
   "outputs": [
    {
     "data": {
      "text/html": [
       "\n",
       "<h1> This is the first heading </h1>\n",
       "<h2> This is the second heading </h2>\n",
       "<p> This is a paragraph </p>\n"
      ],
      "text/plain": [
       "<IPython.core.display.HTML object>"
      ]
     },
     "metadata": {},
     "output_type": "display_data"
    }
   ],
   "source": [
    "%%html\n",
    "\n",
    "<h1> This is the first heading </h1>\n",
    "<h2> This is the second heading </h2>\n",
    "<p> This is a paragraph </p>"
   ]
  },
  {
   "cell_type": "code",
   "execution_count": 28,
   "id": "edd74e43",
   "metadata": {},
   "outputs": [
    {
     "data": {
      "text/markdown": [
       "\n",
       "This is markdown cell\n"
      ],
      "text/plain": [
       "<IPython.core.display.Markdown object>"
      ]
     },
     "metadata": {},
     "output_type": "display_data"
    }
   ],
   "source": [
    "%%markdown\n",
    "\n",
    "This is markdown cell"
   ]
  },
  {
   "cell_type": "code",
   "execution_count": null,
   "id": "7c83f477",
   "metadata": {},
   "outputs": [],
   "source": []
  }
 ],
 "metadata": {
  "kernelspec": {
   "display_name": "Python 3 (ipykernel)",
   "language": "python",
   "name": "python3"
  },
  "language_info": {
   "codemirror_mode": {
    "name": "ipython",
    "version": 3
   },
   "file_extension": ".py",
   "mimetype": "text/x-python",
   "name": "python",
   "nbconvert_exporter": "python",
   "pygments_lexer": "ipython3",
   "version": "3.9.7"
  }
 },
 "nbformat": 4,
 "nbformat_minor": 5
}
